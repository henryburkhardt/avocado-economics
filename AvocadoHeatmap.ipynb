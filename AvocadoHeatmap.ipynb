{
 "cells": [
  {
   "cell_type": "code",
   "execution_count": 12,
   "id": "1d933271-3f71-4517-9e1c-b126b8060134",
   "metadata": {},
   "outputs": [],
   "source": [
    "#Import Packages/Data\n",
    "import numpy as np \n",
    "import pandas as pd\n",
    "import plotly.express as px\n",
    "import plotly.io as pio\n",
    "import json\n",
    "import plotly.graph_objects as go\n",
    "\n",
    "\n",
    "pio.renderers.default = 'browser'\n",
    "\n",
    "df = pd.read_csv(\"C:\\\\Users\\\\22henrywb\\\\Desktop\\\\Data Science\\\\data_science_21-22\\\\Datasets\\\\avocado.csv\")\n",
    "key = pd.read_csv(\"./regionKey.csv\")\n",
    "statesJson = json.load(open(\"./20m.json\"))"
   ]
  },
  {
   "cell_type": "code",
   "execution_count": 13,
   "id": "a71c42ca",
   "metadata": {},
   "outputs": [],
   "source": [
    "state_id_map = {}\n",
    "\n",
    "for feature in statesJson['features']:\n",
    "    feature['id'] = feature['properties']['STATE']\n",
    "    state_id_map[str.lower(feature['properties']['NAME'])] = feature['id']"
   ]
  },
  {
   "cell_type": "code",
   "execution_count": 3,
   "id": "9a38069b",
   "metadata": {},
   "outputs": [],
   "source": [
    "regions = [\"West\",\"California\",\"Plains\",\"SouthCentral\",\"GreatLakes\",\"Northeast\",\"Midsouth\",\"Southeast\"]\n",
    "df_regional = df[(df.region.isin(regions))&(df.type==\"conventional\")]"
   ]
  },
  {
   "cell_type": "code",
   "execution_count": 4,
   "id": "ccc6cad7",
   "metadata": {},
   "outputs": [],
   "source": [
    "df_state = pd.merge(key, df_regional, on=\"region\")\n",
    "df_state['id'] = df_state['state'].apply(lambda x: state_id_map[x])\n",
    "df_state = df_state.sort_values('Date')"
   ]
  },
  {
   "cell_type": "code",
   "execution_count": 5,
   "id": "e960a73c",
   "metadata": {},
   "outputs": [],
   "source": [
    "def getDate(date):\n",
    "    return(df_state[(df_state['Date']==date)|(df_state['Date']==\"2015-12-13\")])\n",
    "getDate(\"2015-12-27\")\n",
    "\n",
    "uniqueDate = pd.unique(df_state.Date)"
   ]
  },
  {
   "cell_type": "code",
   "execution_count": 6,
   "id": "8c62d870",
   "metadata": {},
   "outputs": [
    {
     "name": "stdout",
     "output_type": "stream",
     "text": [
      "2 1.2 0.78 (96, 16)\n"
     ]
    }
   ],
   "source": [
    "mapDf = getDate(\"2015-12-27\")\n",
    "statesJson['features'][0].keys()\n",
    "\n",
    "# mapDf = df_state[1:10]\n",
    "\n",
    "print(len(pd.unique(mapDf.Date)), \n",
    "      mapDf.AveragePrice.max(),171\n",
    "      mapDf.AveragePrice.min(),\n",
    "      mapDf.shape)"
   ]
  },
  {
   "cell_type": "code",
   "execution_count": 7,
   "id": "15888ece",
   "metadata": {},
   "outputs": [],
   "source": [
    "#Generate Animation\n",
    "\n",
    "fig = px.choropleth(mapDf, range_color=[0.62, 1.98], animation_frame='Date', animation_group='region', locations='id', geojson=statesJson, basemap_visible=False, color='AveragePrice', color_continuous_scale=\"BuGn\", scope=\"usa\")\n",
    "fig.show()"
   ]
  },
  {
   "cell_type": "code",
   "execution_count": 8,
   "id": "23082a3f-0fc6-4d11-90f1-41c0d2bba5b9",
   "metadata": {},
   "outputs": [],
   "source": [
    "#Generate Single Frame \n",
    "\n",
    "fig = px.choropleth(mapDf, locations='id', geojson=statesJson, basemap_visible=False, color='AveragePrice', color_continuous_scale=\"BuGn\", scope=\"usa\")\n",
    "fig.show()"
   ]
  },
  {
   "cell_type": "code",
   "execution_count": 9,
   "id": "7a862b3c",
   "metadata": {},
   "outputs": [],
   "source": [
    "#2:28 pm 12/4"
   ]
  },
  {
   "cell_type": "code",
   "execution_count": 10,
   "id": "dfba7ecb-134c-4d5a-b2dd-fbd01b5bbd44",
   "metadata": {
    "slideshow": {
     "slide_type": "slide"
    },
    "tags": []
   },
   "outputs": [
    {
     "data": {
      "text/html": [
       "<div>\n",
       "<style scoped>\n",
       "    .dataframe tbody tr th:only-of-type {\n",
       "        vertical-align: middle;\n",
       "    }\n",
       "\n",
       "    .dataframe tbody tr th {\n",
       "        vertical-align: top;\n",
       "    }\n",
       "\n",
       "    .dataframe thead th {\n",
       "        text-align: right;\n",
       "    }\n",
       "</style>\n",
       "<table border=\"1\" class=\"dataframe\">\n",
       "  <thead>\n",
       "    <tr style=\"text-align: right;\">\n",
       "      <th></th>\n",
       "      <th>state</th>\n",
       "      <th>region</th>\n",
       "      <th>Unnamed: 0</th>\n",
       "      <th>Date</th>\n",
       "      <th>AveragePrice</th>\n",
       "      <th>Total Volume</th>\n",
       "      <th>4046</th>\n",
       "      <th>4225</th>\n",
       "      <th>4770</th>\n",
       "      <th>Total Bags</th>\n",
       "      <th>Small Bags</th>\n",
       "      <th>Large Bags</th>\n",
       "      <th>XLarge Bags</th>\n",
       "      <th>type</th>\n",
       "      <th>year</th>\n",
       "      <th>id</th>\n",
       "    </tr>\n",
       "  </thead>\n",
       "  <tbody>\n",
       "    <tr>\n",
       "      <th>1692</th>\n",
       "      <td>california</td>\n",
       "      <td>California</td>\n",
       "      <td>2</td>\n",
       "      <td>2015-12-13</td>\n",
       "      <td>0.87</td>\n",
       "      <td>5259354.30</td>\n",
       "      <td>1806690.08</td>\n",
       "      <td>1627240.76</td>\n",
       "      <td>232985.13</td>\n",
       "      <td>1592438.33</td>\n",
       "      <td>1404012.00</td>\n",
       "      <td>180150.37</td>\n",
       "      <td>8275.96</td>\n",
       "      <td>conventional</td>\n",
       "      <td>2015</td>\n",
       "      <td>06</td>\n",
       "    </tr>\n",
       "    <tr>\n",
       "      <th>2368</th>\n",
       "      <td>nebraska</td>\n",
       "      <td>Plains</td>\n",
       "      <td>2</td>\n",
       "      <td>2015-12-13</td>\n",
       "      <td>1.02</td>\n",
       "      <td>1472501.13</td>\n",
       "      <td>695419.91</td>\n",
       "      <td>463238.46</td>\n",
       "      <td>17927.73</td>\n",
       "      <td>295915.03</td>\n",
       "      <td>266174.79</td>\n",
       "      <td>28516.98</td>\n",
       "      <td>1223.26</td>\n",
       "      <td>conventional</td>\n",
       "      <td>2015</td>\n",
       "      <td>31</td>\n",
       "    </tr>\n",
       "    <tr>\n",
       "      <th>6762</th>\n",
       "      <td>connecticut</td>\n",
       "      <td>Northeast</td>\n",
       "      <td>2</td>\n",
       "      <td>2015-12-13</td>\n",
       "      <td>1.09</td>\n",
       "      <td>3696551.52</td>\n",
       "      <td>81055.10</td>\n",
       "      <td>2852333.86</td>\n",
       "      <td>4716.39</td>\n",
       "      <td>758446.17</td>\n",
       "      <td>706707.82</td>\n",
       "      <td>51734.84</td>\n",
       "      <td>3.51</td>\n",
       "      <td>conventional</td>\n",
       "      <td>2015</td>\n",
       "      <td>09</td>\n",
       "    </tr>\n",
       "    <tr>\n",
       "      <th>5917</th>\n",
       "      <td>south carolina</td>\n",
       "      <td>Midsouth</td>\n",
       "      <td>2</td>\n",
       "      <td>2015-12-13</td>\n",
       "      <td>1.03</td>\n",
       "      <td>2193142.82</td>\n",
       "      <td>515063.58</td>\n",
       "      <td>1060753.67</td>\n",
       "      <td>113979.43</td>\n",
       "      <td>503346.14</td>\n",
       "      <td>445274.87</td>\n",
       "      <td>57239.73</td>\n",
       "      <td>831.54</td>\n",
       "      <td>conventional</td>\n",
       "      <td>2015</td>\n",
       "      <td>45</td>\n",
       "    </tr>\n",
       "    <tr>\n",
       "      <th>7607</th>\n",
       "      <td>pennsylvania</td>\n",
       "      <td>Northeast</td>\n",
       "      <td>2</td>\n",
       "      <td>2015-12-13</td>\n",
       "      <td>1.09</td>\n",
       "      <td>3696551.52</td>\n",
       "      <td>81055.10</td>\n",
       "      <td>2852333.86</td>\n",
       "      <td>4716.39</td>\n",
       "      <td>758446.17</td>\n",
       "      <td>706707.82</td>\n",
       "      <td>51734.84</td>\n",
       "      <td>3.51</td>\n",
       "      <td>conventional</td>\n",
       "      <td>2015</td>\n",
       "      <td>42</td>\n",
       "    </tr>\n",
       "  </tbody>\n",
       "</table>\n",
       "</div>"
      ],
      "text/plain": [
       "               state      region  Unnamed: 0        Date  AveragePrice  \\\n",
       "1692      california  California           2  2015-12-13          0.87   \n",
       "2368        nebraska      Plains           2  2015-12-13          1.02   \n",
       "6762     connecticut   Northeast           2  2015-12-13          1.09   \n",
       "5917  south carolina    Midsouth           2  2015-12-13          1.03   \n",
       "7607    pennsylvania   Northeast           2  2015-12-13          1.09   \n",
       "\n",
       "      Total Volume        4046        4225       4770  Total Bags  Small Bags  \\\n",
       "1692    5259354.30  1806690.08  1627240.76  232985.13  1592438.33  1404012.00   \n",
       "2368    1472501.13   695419.91   463238.46   17927.73   295915.03   266174.79   \n",
       "6762    3696551.52    81055.10  2852333.86    4716.39   758446.17   706707.82   \n",
       "5917    2193142.82   515063.58  1060753.67  113979.43   503346.14   445274.87   \n",
       "7607    3696551.52    81055.10  2852333.86    4716.39   758446.17   706707.82   \n",
       "\n",
       "      Large Bags  XLarge Bags          type  year  id  \n",
       "1692   180150.37      8275.96  conventional  2015  06  \n",
       "2368    28516.98      1223.26  conventional  2015  31  \n",
       "6762    51734.84         3.51  conventional  2015  09  \n",
       "5917    57239.73       831.54  conventional  2015  45  \n",
       "7607    51734.84         3.51  conventional  2015  42  "
      ]
     },
     "execution_count": 10,
     "metadata": {},
     "output_type": "execute_result"
    }
   ],
   "source": [
    "mapDf.head()"
   ]
  }
 ],
 "metadata": {
  "kernelspec": {
   "display_name": "DataScience",
   "language": "python",
   "name": "datascience"
  },
  "language_info": {
   "codemirror_mode": {
    "name": "ipython",
    "version": 3
   },
   "file_extension": ".py",
   "mimetype": "text/x-python",
   "name": "python",
   "nbconvert_exporter": "python",
   "pygments_lexer": "ipython3",
   "version": "3.9.7"
  },
  "toc-showcode": true
 },
 "nbformat": 4,
 "nbformat_minor": 5
}
